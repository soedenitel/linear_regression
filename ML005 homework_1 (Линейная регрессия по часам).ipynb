{
 "cells": [
  {
   "cell_type": "markdown",
   "id": "ed29e357",
   "metadata": {},
   "source": [
    "# Задание\n",
    "\n",
    "Разделите набор данных на обучающие/проверочные в пропорции 80/20.\n",
    "\n",
    "Загрузите данные и очистите значения (нулями и средними). Постройте модель линейной регрессии **для каждого часа в отдельности**, используя температуру воздуха (air_temperature), влажность (dew_temperature), атмосферное давление (sea_level_pressure), скорость ветра (wind_speed) и облачность (cloud_coverage).\n",
    "\n",
    "Рассчитайте качество построенной модели по проверочным данным. Используйте данные:\n",
    "\n",
    "http://video.ittensive.com/machine-learning/ashrae/building_metadata.csv.gz\n",
    "\n",
    "http://video.ittensive.com/machine-learning/ashrae/weather_train.csv.gz\n",
    "\n",
    "http://video.ittensive.com/machine-learning/ashrae/train.0.0.csv.gz"
   ]
  },
  {
   "cell_type": "code",
   "execution_count": 1,
   "id": "eb7de75d",
   "metadata": {},
   "outputs": [],
   "source": [
    "%matplotlib inline\n",
    "%config InlineBackend.figure_format = 'svg'\n",
    "import numpy as np\n",
    "import pandas as pd\n",
    "from sklearn.model_selection import train_test_split\n",
    "from sklearn.linear_model import LinearRegression\n",
    "\n",
    "import matplotlib.pyplot as plt\n",
    "from matplotlib.pyplot import rcParams\n",
    "rcParams['figure.figsize'] = 12, 6"
   ]
  },
  {
   "cell_type": "code",
   "execution_count": 2,
   "id": "b26c8ea1",
   "metadata": {},
   "outputs": [
    {
     "name": "stdout",
     "output_type": "stream",
     "text": [
      "(5411, 17)\n"
     ]
    },
    {
     "data": {
      "text/html": [
       "<div>\n",
       "<style scoped>\n",
       "    .dataframe tbody tr th:only-of-type {\n",
       "        vertical-align: middle;\n",
       "    }\n",
       "\n",
       "    .dataframe tbody tr th {\n",
       "        vertical-align: top;\n",
       "    }\n",
       "\n",
       "    .dataframe thead th {\n",
       "        text-align: right;\n",
       "    }\n",
       "</style>\n",
       "<table border=\"1\" class=\"dataframe\">\n",
       "  <thead>\n",
       "    <tr style=\"text-align: right;\">\n",
       "      <th></th>\n",
       "      <th>timestamp</th>\n",
       "      <th>site_id</th>\n",
       "      <th>building_id</th>\n",
       "      <th>meter</th>\n",
       "      <th>meter_reading</th>\n",
       "      <th>primary_use</th>\n",
       "      <th>square_feet</th>\n",
       "      <th>year_built</th>\n",
       "      <th>floor_count</th>\n",
       "      <th>air_temperature</th>\n",
       "      <th>cloud_coverage</th>\n",
       "      <th>dew_temperature</th>\n",
       "      <th>precip_depth_1_hr</th>\n",
       "      <th>sea_level_pressure</th>\n",
       "      <th>wind_direction</th>\n",
       "      <th>wind_speed</th>\n",
       "      <th>hour</th>\n",
       "    </tr>\n",
       "  </thead>\n",
       "  <tbody>\n",
       "    <tr>\n",
       "      <th>704</th>\n",
       "      <td>2016-01-30 08:00:00</td>\n",
       "      <td>0</td>\n",
       "      <td>0</td>\n",
       "      <td>0</td>\n",
       "      <td>43.6839</td>\n",
       "      <td>Education</td>\n",
       "      <td>7432</td>\n",
       "      <td>2008.0</td>\n",
       "      <td>NaN</td>\n",
       "      <td>8.3</td>\n",
       "      <td>NaN</td>\n",
       "      <td>6.1</td>\n",
       "      <td>0.0</td>\n",
       "      <td>1019.0</td>\n",
       "      <td>220.0</td>\n",
       "      <td>2.1</td>\n",
       "      <td>8</td>\n",
       "    </tr>\n",
       "    <tr>\n",
       "      <th>725</th>\n",
       "      <td>2016-01-31 05:00:00</td>\n",
       "      <td>0</td>\n",
       "      <td>0</td>\n",
       "      <td>0</td>\n",
       "      <td>37.5408</td>\n",
       "      <td>Education</td>\n",
       "      <td>7432</td>\n",
       "      <td>2008.0</td>\n",
       "      <td>NaN</td>\n",
       "      <td>12.8</td>\n",
       "      <td>NaN</td>\n",
       "      <td>10.0</td>\n",
       "      <td>0.0</td>\n",
       "      <td>1021.9</td>\n",
       "      <td>0.0</td>\n",
       "      <td>0.0</td>\n",
       "      <td>5</td>\n",
       "    </tr>\n",
       "    <tr>\n",
       "      <th>737</th>\n",
       "      <td>2016-01-31 17:00:00</td>\n",
       "      <td>0</td>\n",
       "      <td>0</td>\n",
       "      <td>0</td>\n",
       "      <td>52.5571</td>\n",
       "      <td>Education</td>\n",
       "      <td>7432</td>\n",
       "      <td>2008.0</td>\n",
       "      <td>NaN</td>\n",
       "      <td>20.6</td>\n",
       "      <td>NaN</td>\n",
       "      <td>11.7</td>\n",
       "      <td>0.0</td>\n",
       "      <td>1020.9</td>\n",
       "      <td>110.0</td>\n",
       "      <td>1.5</td>\n",
       "      <td>17</td>\n",
       "    </tr>\n",
       "    <tr>\n",
       "      <th>2366</th>\n",
       "      <td>2016-04-08 14:00:00</td>\n",
       "      <td>0</td>\n",
       "      <td>0</td>\n",
       "      <td>0</td>\n",
       "      <td>59.3827</td>\n",
       "      <td>Education</td>\n",
       "      <td>7432</td>\n",
       "      <td>2008.0</td>\n",
       "      <td>NaN</td>\n",
       "      <td>21.7</td>\n",
       "      <td>2.0</td>\n",
       "      <td>14.4</td>\n",
       "      <td>0.0</td>\n",
       "      <td>1015.1</td>\n",
       "      <td>250.0</td>\n",
       "      <td>3.1</td>\n",
       "      <td>14</td>\n",
       "    </tr>\n",
       "    <tr>\n",
       "      <th>2923</th>\n",
       "      <td>2016-05-01 19:00:00</td>\n",
       "      <td>0</td>\n",
       "      <td>0</td>\n",
       "      <td>0</td>\n",
       "      <td>448.0000</td>\n",
       "      <td>Education</td>\n",
       "      <td>7432</td>\n",
       "      <td>2008.0</td>\n",
       "      <td>NaN</td>\n",
       "      <td>31.1</td>\n",
       "      <td>NaN</td>\n",
       "      <td>17.2</td>\n",
       "      <td>0.0</td>\n",
       "      <td>1016.1</td>\n",
       "      <td>100.0</td>\n",
       "      <td>4.1</td>\n",
       "      <td>19</td>\n",
       "    </tr>\n",
       "  </tbody>\n",
       "</table>\n",
       "</div>"
      ],
      "text/plain": [
       "               timestamp  site_id  building_id  meter  meter_reading  \\\n",
       "704  2016-01-30 08:00:00        0            0      0        43.6839   \n",
       "725  2016-01-31 05:00:00        0            0      0        37.5408   \n",
       "737  2016-01-31 17:00:00        0            0      0        52.5571   \n",
       "2366 2016-04-08 14:00:00        0            0      0        59.3827   \n",
       "2923 2016-05-01 19:00:00        0            0      0       448.0000   \n",
       "\n",
       "     primary_use  square_feet  year_built  floor_count  air_temperature  \\\n",
       "704    Education         7432      2008.0          NaN              8.3   \n",
       "725    Education         7432      2008.0          NaN             12.8   \n",
       "737    Education         7432      2008.0          NaN             20.6   \n",
       "2366   Education         7432      2008.0          NaN             21.7   \n",
       "2923   Education         7432      2008.0          NaN             31.1   \n",
       "\n",
       "      cloud_coverage  dew_temperature  precip_depth_1_hr  sea_level_pressure  \\\n",
       "704              NaN              6.1                0.0              1019.0   \n",
       "725              NaN             10.0                0.0              1021.9   \n",
       "737              NaN             11.7                0.0              1020.9   \n",
       "2366             2.0             14.4                0.0              1015.1   \n",
       "2923             NaN             17.2                0.0              1016.1   \n",
       "\n",
       "      wind_direction  wind_speed  hour  \n",
       "704            220.0         2.1     8  \n",
       "725              0.0         0.0     5  \n",
       "737            110.0         1.5    17  \n",
       "2366           250.0         3.1    14  \n",
       "2923           100.0         4.1    19  "
      ]
     },
     "execution_count": 2,
     "metadata": {},
     "output_type": "execute_result"
    }
   ],
   "source": [
    "buildings = pd.read_csv('http://video.ittensive.com/machine-learning/ashrae/building_metadata.csv.gz')\n",
    "weather = pd.read_csv('http://video.ittensive.com/machine-learning/ashrae/weather_train.csv.gz', parse_dates=['timestamp'])\n",
    "energy_0 = pd.read_csv('http://video.ittensive.com/machine-learning/ashrae/train.0.0.csv.gz', parse_dates=['timestamp'])\n",
    "\n",
    "energy_0 = pd.merge(left=energy_0, right=buildings, left_on='building_id', right_on='building_id', how='left')\n",
    "\n",
    "energy_0.set_index(['timestamp', 'site_id'], inplace=True)\n",
    "weather.set_index(['timestamp', 'site_id'], inplace=True)\n",
    "energy_0 = pd.merge(left=energy_0, right=weather, how='left', left_index=True, right_index=True)\n",
    "energy_0.reset_index(inplace=True)\n",
    "energy_0 = energy_0[energy_0['meter_reading'] > 0]\n",
    "energy_0['hour'] = energy_0['timestamp'].dt.hour\n",
    "\n",
    "print(energy_0.shape)\n",
    "energy_0.head()"
   ]
  },
  {
   "cell_type": "code",
   "execution_count": 3,
   "id": "f5498342",
   "metadata": {},
   "outputs": [
    {
     "name": "stdout",
     "output_type": "stream",
     "text": [
      "Columns with null values:\n",
      "\t floor_count has 5411 nulls\n",
      "\t cloud_coverage has 2261 nulls\n",
      "\t sea_level_pressure has 28 nulls\n",
      "\t wind_direction has 175 nulls\n"
     ]
    }
   ],
   "source": [
    "def show_nulls(df: pd.DataFrame):\n",
    "    print('Columns with null values:')\n",
    "    no_nulls = True\n",
    "    for column in df.columns:\n",
    "        amount_of_nulls = df[column].isnull().sum()\n",
    "        if amount_of_nulls:\n",
    "            print('\\t', column, 'has', amount_of_nulls, 'nulls')\n",
    "            no_nulls = False\n",
    "    if no_nulls:\n",
    "        print('\\tthere are no nulls.')\n",
    "\n",
    "            \n",
    "def fillna_to_mean(df: pd.DataFrame, columns: list, inplace=False):\n",
    "    if inplace:\n",
    "        result_df = df\n",
    "    else:\n",
    "        result_df = pd.DataFrame(df)\n",
    "        \n",
    "    for column in columns:\n",
    "        mean_value = result_df[column].mean()\n",
    "        result_df.fillna(mean_value, inplace=True)\n",
    "    \n",
    "    return result_df\n",
    "\n",
    "\n",
    "show_nulls(energy_0)"
   ]
  },
  {
   "cell_type": "markdown",
   "id": "830dcd25",
   "metadata": {},
   "source": [
    "### Заполнение пропущенных данных\n",
    "* floor_count: весь столбец удаляется\n",
    "* air_temperature: NaN -> 0\n",
    "* cloud_coverage: NaN -> 0\n",
    "* dew_temperature: NaN -> 0\n",
    "* precip_depth_1_hr: NaN -> 0, -1 -> 0\n",
    "* sea_level_pressure: NaN -> среднее\n",
    "* wind_direction: NaN -> среднее (роза ветров)"
   ]
  },
  {
   "cell_type": "code",
   "execution_count": 4,
   "id": "69f56ef0",
   "metadata": {},
   "outputs": [
    {
     "name": "stdout",
     "output_type": "stream",
     "text": [
      "Columns with null values:\n",
      "\tthere are no nulls.\n"
     ]
    }
   ],
   "source": [
    "energy_0 = energy_0.drop('floor_count', axis='columns')\n",
    "energy_0['air_temperature'].fillna(0, inplace=True)\n",
    "energy_0['cloud_coverage'].fillna(0, inplace=True)\n",
    "energy_0['dew_temperature'].fillna(0, inplace=True)\n",
    "energy_0['precip_depth_1_hr'] = energy_0['precip_depth_1_hr'].map(lambda value: 0 if value != value else 0 if value == -1 else value)\n",
    "fillna_to_mean(energy_0, ['sea_level_pressure', 'wind_direction'], inplace=True)\n",
    "\n",
    "show_nulls(energy_0)"
   ]
  },
  {
   "cell_type": "markdown",
   "id": "09e87272",
   "metadata": {},
   "source": [
    "### Разделение данных на обучающую и отложенную выборки в пропорции 80/20"
   ]
  },
  {
   "cell_type": "code",
   "execution_count": 5,
   "id": "c9abdfd4",
   "metadata": {},
   "outputs": [],
   "source": [
    "energy_0_train, energy_0_test = train_test_split(energy_0, test_size=0.2, random_state=11)"
   ]
  },
  {
   "cell_type": "markdown",
   "id": "4ba4ec61",
   "metadata": {},
   "source": [
    "### Модели линейной регрессии для каждого часа в отдельности\n",
    "meter_reading = $a_0 \\cdot $ air_temperature + $a_1 \\cdot $ dew_temperature + $a_2 \\cdot $ sea_level_pressure + $a_3 \\cdot $ wind_speed + $a_4 \\cdot $ cloud_coverage + $b$"
   ]
  },
  {
   "cell_type": "code",
   "execution_count": 6,
   "id": "68a39bc9",
   "metadata": {},
   "outputs": [],
   "source": [
    "FEATURES = ['air_temperature', 'dew_temperature', 'sea_level_pressure', 'wind_speed', 'cloud_coverage']\n",
    "lr_model_params_by_hours = dict()\n",
    "model = LinearRegression()\n",
    "\n",
    "for hour in range(0, 24):\n",
    "    hour_filter = energy_0_train['hour'] == hour\n",
    "    model.fit(energy_0_train[hour_filter][FEATURES], energy_0_train[hour_filter]['meter_reading'])\n",
    "    lr_model_params_by_hours[hour] = list(model.coef_)\n",
    "    lr_model_params_by_hours[hour].append(model.intercept_)"
   ]
  },
  {
   "cell_type": "markdown",
   "id": "825931a2",
   "metadata": {},
   "source": [
    "### Какое получилось качество модели линейной регрессии по часам с точностью до десятых?"
   ]
  },
  {
   "cell_type": "code",
   "execution_count": 7,
   "id": "90146861",
   "metadata": {},
   "outputs": [
    {
     "name": "stdout",
     "output_type": "stream",
     "text": [
      "Качество модели линейной регрессии: 0.2\n"
     ]
    }
   ],
   "source": [
    "def calculate_lgsq_error(row):\n",
    "    params = lr_model_params_by_hours[row.hour]\n",
    "    prediction = params[0] * row[FEATURES[0]] + params[1] * row[FEATURES[1]] + params[2] * row[FEATURES[2]] +\\\n",
    "                    params[3] * row[FEATURES[3]] + params[4] * row[FEATURES[4]] + params[5]\n",
    "    return (np.log(row.meter_reading + 1) - np.log(prediction + 1))**2\n",
    "\n",
    "\n",
    "meter_reading_prediction_lgsq_error = energy_0_test.apply(calculate_lgsq_error, axis='columns')\n",
    "meter_reading_rmsle = np.sqrt(meter_reading_prediction_lgsq_error.sum() / len(meter_reading_prediction_lgsq_error))\n",
    "\n",
    "print('Качество модели линейной регрессии:', round(meter_reading_rmsle, 1))"
   ]
  }
 ],
 "metadata": {
  "kernelspec": {
   "display_name": "Python 3 (ipykernel)",
   "language": "python",
   "name": "python3"
  },
  "language_info": {
   "codemirror_mode": {
    "name": "ipython",
    "version": 3
   },
   "file_extension": ".py",
   "mimetype": "text/x-python",
   "name": "python",
   "nbconvert_exporter": "python",
   "pygments_lexer": "ipython3",
   "version": "3.10.4"
  }
 },
 "nbformat": 4,
 "nbformat_minor": 5
}
