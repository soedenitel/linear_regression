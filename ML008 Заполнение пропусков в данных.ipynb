{
 "cells": [
  {
   "cell_type": "markdown",
   "id": "b55ca5c1",
   "metadata": {},
   "source": [
    "### Постановка задачи\n",
    "Заполним отсутствующие значения по погоде интерполяционными данными.\n",
    "\n",
    "Посчитаем модель линейной регрессии по первому зданию и найдем ее точность.\n",
    "\n",
    "Данные:\n",
    "* http://video.ittensive.com/machine-learning/ashrae/building_metadata.csv.gz\n",
    "* http://video.ittensive.com/machine-learning/ashrae/weather_train.csv.gz\n",
    "* http://video.ittensive.com/machine-learning/ashrae/train.0.csv.gz\n",
    "\n",
    "Соревнование: https://www.kaggle.com/c/ashrae-energy-prediction/\n",
    "\n",
    "© ITtensive, 2020"
   ]
  },
  {
   "cell_type": "code",
   "execution_count": 1,
   "id": "63fb518a",
   "metadata": {},
   "outputs": [],
   "source": [
    "import pandas as pd\n",
    "import numpy as np\n",
    "from scipy.interpolate import interp1d\n",
    "from sklearn.model_selection import train_test_split\n",
    "from sklearn.linear_model import LinearRegression\n",
    "\n",
    "buildings = pd.read_csv(\"http://video.ittensive.com/machine-learning/ashrae/building_metadata.csv.gz\")\n",
    "weather = pd.read_csv(\"http://video.ittensive.com/machine-learning/ashrae/weather_train.csv.gz\")\n",
    "energy = pd.read_csv(\"http://video.ittensive.com/machine-learning/ashrae/train.0.csv.gz\")"
   ]
  },
  {
   "cell_type": "markdown",
   "id": "389f0542",
   "metadata": {},
   "source": [
    "### Отсечение здания 0 и отсутствующих значений (работаем только с первым зданием)"
   ]
  },
  {
   "cell_type": "code",
   "execution_count": 4,
   "id": "d2f86fd3",
   "metadata": {},
   "outputs": [],
   "source": [
    "energy = energy[energy['building_id'] == 0]"
   ]
  },
  {
   "cell_type": "markdown",
   "id": "f821137e",
   "metadata": {},
   "source": [
    "### Объединение данных"
   ]
  },
  {
   "cell_type": "code",
   "execution_count": 5,
   "id": "504daeff",
   "metadata": {},
   "outputs": [
    {
     "name": "stdout",
     "output_type": "stream",
     "text": [
      "<class 'pandas.core.frame.DataFrame'>\n",
      "RangeIndex: 8784 entries, 0 to 8783\n",
      "Data columns (total 13 columns):\n",
      " #   Column              Non-Null Count  Dtype  \n",
      "---  ------              --------------  -----  \n",
      " 0   timestamp           8784 non-null   object \n",
      " 1   building_id         8784 non-null   int64  \n",
      " 2   meter_reading       8784 non-null   float64\n",
      " 3   primary_use         8784 non-null   object \n",
      " 4   square_feet         8784 non-null   int64  \n",
      " 5   year_built          8784 non-null   float64\n",
      " 6   air_temperature     8781 non-null   float64\n",
      " 7   cloud_coverage      4954 non-null   float64\n",
      " 8   dew_temperature     8781 non-null   float64\n",
      " 9   precip_depth_1_hr   8783 non-null   float64\n",
      " 10  sea_level_pressure  8699 non-null   float64\n",
      " 11  wind_direction      8534 non-null   float64\n",
      " 12  wind_speed          8784 non-null   float64\n",
      "dtypes: float64(9), int64(2), object(2)\n",
      "memory usage: 892.2+ KB\n"
     ]
    }
   ],
   "source": [
    "energy = pd.merge(left=energy, right=buildings, how=\"left\", left_on=\"building_id\", right_on=\"building_id\")\n",
    "energy = energy.set_index([\"timestamp\", \"site_id\"])\n",
    "weather = weather.set_index([\"timestamp\", \"site_id\"])\n",
    "energy = pd.merge(left=energy, right=weather, how=\"left\", left_index=True, right_index=True)\n",
    "energy.reset_index(inplace=True)\n",
    "energy = energy.drop(columns=[\"meter\", \"site_id\", \"floor_count\"], axis=1)\n",
    "del buildings\n",
    "del weather\n",
    "energy.info()"
   ]
  },
  {
   "cell_type": "markdown",
   "id": "f63e4b95",
   "metadata": {},
   "source": [
    "### Оптимизация памяти"
   ]
  },
  {
   "cell_type": "code",
   "execution_count": 6,
   "id": "5313ed30",
   "metadata": {},
   "outputs": [],
   "source": [
    "def reduce_mem_usage(df: pd.DataFrame):\n",
    "    start_mem = df.memory_usage().sum() / 1024**2\n",
    "    for col in df.columns:\n",
    "        col_type = df[col].dtypes\n",
    "        if str(col_type)[:5] == 'float':\n",
    "            c_min = df[col].min()\n",
    "            c_max = df[col].max()\n",
    "            if c_min > np.finfo('f2').min and c_max < np.finfo('f2').max:\n",
    "                df[col] = df[col].astype(np.float16)\n",
    "            elif c_min > np.finfo('f4').min and c_max < np.finfo('f4').max:\n",
    "                df[col] = df[col].astype(np.float32)\n",
    "            else:\n",
    "                df[col] = df[col].astype(np.float64)\n",
    "        elif str(col_type)[:3] == 'int':\n",
    "            c_min = df[col].min()\n",
    "            c_max = df[col].max()\n",
    "            if c_min > np.iinfo(\"i1\").min and c_max < np.iinfo(\"i1\").max:\n",
    "                df[col] = df[col].astype(np.int8)\n",
    "            elif c_min > np.iinfo(\"i2\").min and c_max < np.iinfo(\"i2\").max:\n",
    "                df[col] = df[col].astype(np.int16)\n",
    "            elif c_min > np.iinfo(\"i4\").min and c_max < np.iinfo(\"i4\").max:\n",
    "                df[col] = df[col].astype(np.int32)\n",
    "            elif c_min > np.iinfo(\"i8\").min and c_max < np.iinfo(\"i8\").max:\n",
    "                df[col] = df[col].astype(np.int64)\n",
    "        elif col == 'timestamp':\n",
    "            df[col] = pd.to_datetime(df[col])\n",
    "        elif str(col_type)[:8] != 'datetime':\n",
    "            df[col] = df[col].astype('category')\n",
    "    \n",
    "    end_mem = df.memory_usage().sum() / 1024**2\n",
    "    print(\n",
    "        'Потребление памяти меньше на ',\n",
    "        round(start_mem - end_mem, 2),\n",
    "        ' Мб (-',\n",
    "        round(100 * (start_mem - end_mem) / start_mem, 1),\n",
    "        '%)',\n",
    "        sep=''\n",
    "    )\n",
    "    return df"
   ]
  },
  {
   "cell_type": "code",
   "execution_count": 7,
   "id": "6d696600",
   "metadata": {},
   "outputs": [
    {
     "name": "stdout",
     "output_type": "stream",
     "text": [
      "Потребление памяти меньше на 0.62 Мб (-71.1%)\n"
     ]
    }
   ],
   "source": [
    "energy = reduce_mem_usage(energy)"
   ]
  },
  {
   "cell_type": "markdown",
   "id": "a3018488",
   "metadata": {},
   "source": [
    "### Интерполяция данных"
   ]
  },
  {
   "cell_type": "code",
   "execution_count": 14,
   "id": "05c296c7",
   "metadata": {},
   "outputs": [],
   "source": [
    "energy['precip_depth_1_hr'] = energy['precip_depth_1_hr'].map(lambda x: x if x > 0 else 0)\n",
    "interpolate_columns = [\n",
    "    \"air_temperature\", \"dew_temperature\", \"cloud_coverage\", \"wind_speed\", \"precip_depth_1_hr\", \"sea_level_pressure\"\n",
    "]\n",
    "for col in interpolate_columns:\n",
    "    energy[col] = energy[col].interpolate(limit_direction='both', kind='cubic')"
   ]
  },
  {
   "cell_type": "markdown",
   "id": "9e8f7b20",
   "metadata": {},
   "source": [
    "### Проверка качества интерполяции"
   ]
  },
  {
   "cell_type": "code",
   "execution_count": 10,
   "id": "d8fa5025",
   "metadata": {},
   "outputs": [
    {
     "name": "stdout",
     "output_type": "stream",
     "text": [
      "air_temperature Inf+NaN: 0\n",
      "dew_temperature Inf+NaN: 0\n",
      "cloud_coverage Inf+NaN: 0\n",
      "wind_speed Inf+NaN: 0\n",
      "precip_depth_1_hr Inf+NaN: 0\n",
      "sea_level_pressure Inf+NaN: 0\n"
     ]
    }
   ],
   "source": [
    "pd.set_option('use_inf_as_na', True)\n",
    "for col in interpolate_columns:\n",
    "    print(col, 'Inf+NaN:', energy[col].isnull().sum())"
   ]
  },
  {
   "cell_type": "markdown",
   "id": "151a5a84",
   "metadata": {},
   "source": [
    "### Разделение данных"
   ]
  },
  {
   "cell_type": "code",
   "execution_count": 11,
   "id": "21920042",
   "metadata": {},
   "outputs": [
    {
     "data": {
      "text/html": [
       "<div>\n",
       "<style scoped>\n",
       "    .dataframe tbody tr th:only-of-type {\n",
       "        vertical-align: middle;\n",
       "    }\n",
       "\n",
       "    .dataframe tbody tr th {\n",
       "        vertical-align: top;\n",
       "    }\n",
       "\n",
       "    .dataframe thead th {\n",
       "        text-align: right;\n",
       "    }\n",
       "</style>\n",
       "<table border=\"1\" class=\"dataframe\">\n",
       "  <thead>\n",
       "    <tr style=\"text-align: right;\">\n",
       "      <th></th>\n",
       "      <th>timestamp</th>\n",
       "      <th>building_id</th>\n",
       "      <th>meter_reading</th>\n",
       "      <th>primary_use</th>\n",
       "      <th>square_feet</th>\n",
       "      <th>year_built</th>\n",
       "      <th>air_temperature</th>\n",
       "      <th>cloud_coverage</th>\n",
       "      <th>dew_temperature</th>\n",
       "      <th>precip_depth_1_hr</th>\n",
       "      <th>sea_level_pressure</th>\n",
       "      <th>wind_direction</th>\n",
       "      <th>wind_speed</th>\n",
       "    </tr>\n",
       "  </thead>\n",
       "  <tbody>\n",
       "    <tr>\n",
       "      <th>4191</th>\n",
       "      <td>2016-06-23 15:00:00</td>\n",
       "      <td>0</td>\n",
       "      <td>300.2500</td>\n",
       "      <td>Education</td>\n",
       "      <td>7432</td>\n",
       "      <td>2008.0</td>\n",
       "      <td>30.593750</td>\n",
       "      <td>4.0</td>\n",
       "      <td>23.296875</td>\n",
       "      <td>0.0</td>\n",
       "      <td>1021.0</td>\n",
       "      <td>NaN</td>\n",
       "      <td>1.500000</td>\n",
       "    </tr>\n",
       "    <tr>\n",
       "      <th>8252</th>\n",
       "      <td>2016-12-09 20:00:00</td>\n",
       "      <td>0</td>\n",
       "      <td>98.3125</td>\n",
       "      <td>Education</td>\n",
       "      <td>7432</td>\n",
       "      <td>2008.0</td>\n",
       "      <td>16.093750</td>\n",
       "      <td>6.0</td>\n",
       "      <td>6.699219</td>\n",
       "      <td>0.0</td>\n",
       "      <td>1025.0</td>\n",
       "      <td>20.0</td>\n",
       "      <td>6.699219</td>\n",
       "    </tr>\n",
       "    <tr>\n",
       "      <th>4445</th>\n",
       "      <td>2016-07-04 05:00:00</td>\n",
       "      <td>0</td>\n",
       "      <td>242.2500</td>\n",
       "      <td>Education</td>\n",
       "      <td>7432</td>\n",
       "      <td>2008.0</td>\n",
       "      <td>26.703125</td>\n",
       "      <td>4.0</td>\n",
       "      <td>24.406250</td>\n",
       "      <td>0.0</td>\n",
       "      <td>1020.5</td>\n",
       "      <td>0.0</td>\n",
       "      <td>0.000000</td>\n",
       "    </tr>\n",
       "    <tr>\n",
       "      <th>7092</th>\n",
       "      <td>2016-10-22 12:00:00</td>\n",
       "      <td>0</td>\n",
       "      <td>238.2500</td>\n",
       "      <td>Education</td>\n",
       "      <td>7432</td>\n",
       "      <td>2008.0</td>\n",
       "      <td>14.398438</td>\n",
       "      <td>0.0</td>\n",
       "      <td>7.199219</td>\n",
       "      <td>0.0</td>\n",
       "      <td>1015.0</td>\n",
       "      <td>320.0</td>\n",
       "      <td>3.599609</td>\n",
       "    </tr>\n",
       "    <tr>\n",
       "      <th>4556</th>\n",
       "      <td>2016-07-08 20:00:00</td>\n",
       "      <td>0</td>\n",
       "      <td>298.2500</td>\n",
       "      <td>Education</td>\n",
       "      <td>7432</td>\n",
       "      <td>2008.0</td>\n",
       "      <td>36.093750</td>\n",
       "      <td>4.0</td>\n",
       "      <td>20.000000</td>\n",
       "      <td>0.0</td>\n",
       "      <td>1017.5</td>\n",
       "      <td>NaN</td>\n",
       "      <td>2.599609</td>\n",
       "    </tr>\n",
       "  </tbody>\n",
       "</table>\n",
       "</div>"
      ],
      "text/plain": [
       "               timestamp  building_id  meter_reading primary_use  square_feet  \\\n",
       "4191 2016-06-23 15:00:00            0       300.2500   Education         7432   \n",
       "8252 2016-12-09 20:00:00            0        98.3125   Education         7432   \n",
       "4445 2016-07-04 05:00:00            0       242.2500   Education         7432   \n",
       "7092 2016-10-22 12:00:00            0       238.2500   Education         7432   \n",
       "4556 2016-07-08 20:00:00            0       298.2500   Education         7432   \n",
       "\n",
       "      year_built  air_temperature  cloud_coverage  dew_temperature  \\\n",
       "4191      2008.0        30.593750             4.0        23.296875   \n",
       "8252      2008.0        16.093750             6.0         6.699219   \n",
       "4445      2008.0        26.703125             4.0        24.406250   \n",
       "7092      2008.0        14.398438             0.0         7.199219   \n",
       "4556      2008.0        36.093750             4.0        20.000000   \n",
       "\n",
       "      precip_depth_1_hr  sea_level_pressure  wind_direction  wind_speed  \n",
       "4191                0.0              1021.0             NaN    1.500000  \n",
       "8252                0.0              1025.0            20.0    6.699219  \n",
       "4445                0.0              1020.5             0.0    0.000000  \n",
       "7092                0.0              1015.0           320.0    3.599609  \n",
       "4556                0.0              1017.5             NaN    2.599609  "
      ]
     },
     "execution_count": 11,
     "metadata": {},
     "output_type": "execute_result"
    }
   ],
   "source": [
    "energy_train, energy_test = train_test_split(energy[energy['meter_reading'] > 0], test_size=0.2)\n",
    "energy_train.head()"
   ]
  },
  {
   "cell_type": "markdown",
   "id": "6c0afe63",
   "metadata": {},
   "source": [
    "### Линейная регрессия"
   ]
  },
  {
   "cell_type": "code",
   "execution_count": 12,
   "id": "51efb14f",
   "metadata": {},
   "outputs": [
    {
     "name": "stdout",
     "output_type": "stream",
     "text": [
      "[ 2.5887434   3.92030364 -2.6663704  -1.65959858  0.18471739 -0.93998661] 1069.5495971600421\n"
     ]
    }
   ],
   "source": [
    "regression_columns = [\n",
    "    \"meter_reading\", \"air_temperature\", \"dew_temperature\", \"cloud_coverage\",\n",
    "    \"wind_speed\", \"precip_depth_1_hr\", \"sea_level_pressure\"\n",
    "]\n",
    "\n",
    "energy_train_lr = energy_train[regression_columns]\n",
    "y= energy_train_lr['meter_reading']\n",
    "x= energy_train_lr.drop('meter_reading', axis='columns')\n",
    "model = LinearRegression().fit(x, y)\n",
    "print(model.coef_, model.intercept_)"
   ]
  },
  {
   "cell_type": "markdown",
   "id": "4fca666f",
   "metadata": {},
   "source": [
    "### Предсказание и оценка модели"
   ]
  },
  {
   "cell_type": "code",
   "execution_count": 13,
   "id": "0ff8f4d4",
   "metadata": {},
   "outputs": [
    {
     "name": "stdout",
     "output_type": "stream",
     "text": [
      "Качество линейной регрессии: 0.20095632113681797 0.2\n"
     ]
    }
   ],
   "source": [
    "def calculate_model(x):\n",
    "    lr = np.sum([x[col] * model.coef_[i] for i, col in enumerate(regression_columns[1:])]) + model.intercept_\n",
    "    x['meter_reading_lr_q'] = (np.log(1 + x.meter_reading) - np.log(1 + lr))**2\n",
    "    return x\n",
    "\n",
    "\n",
    "energy_test = energy_test.apply(calculate_model, axis='columns')\n",
    "energy_test_lr_rmsle = np.sqrt(energy_test['meter_reading_lr_q'].sum() / len(energy_test))\n",
    "print('Качество линейной регрессии:', energy_test_lr_rmsle, round(energy_test_lr_rmsle, 1))"
   ]
  }
 ],
 "metadata": {
  "kernelspec": {
   "display_name": "Python 3 (ipykernel)",
   "language": "python",
   "name": "python3"
  },
  "language_info": {
   "codemirror_mode": {
    "name": "ipython",
    "version": 3
   },
   "file_extension": ".py",
   "mimetype": "text/x-python",
   "name": "python",
   "nbconvert_exporter": "python",
   "pygments_lexer": "ipython3",
   "version": "3.10.4"
  }
 },
 "nbformat": 4,
 "nbformat_minor": 5
}
