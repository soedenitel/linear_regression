{
 "cells": [
  {
   "cell_type": "markdown",
   "id": "32fb9480",
   "metadata": {},
   "source": [
    "# Задание\n",
    "\n",
    "Получите данные по энергопотреблению первых 20 зданий (building_id от 0 до 19).\n",
    "\n",
    "Заполните отсутствующие значения по погоде интерполяционными данными.\n",
    "\n",
    "Разделите данные на обучающие/проверочные в пропорции 80/20.\n",
    "\n",
    "Постройте и найдите общее качество модели линейной регрессии, построенной по часам для каждого из первых 20 зданий по следующим параметрам: air_temperature, dew_temperature, cloud_coverage, wind_speed, precip_depth_1_hr, sea_level_pressure, is_holiday. Всего требуется построить 480 моделей линейной регрессии, вычислить по ним проверочные значения энергопотребления и получить итоговую оценку качества такой модели.\n",
    "\n",
    "Для расчета последнего параметра (is_holiday) используйте график публичных выходных в США: USFederalHolidayCalendar\n",
    "\n",
    "Исходные данные:\n",
    "* http://video.ittensive.com/machine-learning/ashrae/building_metadata.csv.gz\n",
    "* http://video.ittensive.com/machine-learning/ashrae/weather_train.csv.gz\n",
    "* http://video.ittensive.com/machine-learning/ashrae/train.0.csv.gz"
   ]
  },
  {
   "cell_type": "code",
   "execution_count": 1,
   "id": "2bb7a63f",
   "metadata": {},
   "outputs": [],
   "source": [
    "%matplotlib inline\n",
    "%config InlineBackend.figure_format = 'svg'\n",
    "import numpy as np\n",
    "import pandas as pd\n",
    "from sklearn.model_selection import train_test_split\n",
    "from sklearn.linear_model import LinearRegression\n",
    "\n",
    "import matplotlib.pyplot as plt\n",
    "from matplotlib.pyplot import rcParams\n",
    "rcParams['figure.figsize'] = 12, 6\n",
    "\n",
    "buildings = pd.read_csv(\"http://video.ittensive.com/machine-learning/ashrae/building_metadata.csv.gz\")\n",
    "weather = pd.read_csv(\"http://video.ittensive.com/machine-learning/ashrae/weather_train.csv.gz\")\n",
    "energy = pd.read_csv(\"http://video.ittensive.com/machine-learning/ashrae/train.0.csv.gz\")"
   ]
  },
  {
   "cell_type": "markdown",
   "id": "bcf3d72e",
   "metadata": {},
   "source": [
    "### Получите данные по энергопотреблению первых 20 зданий (building_id от 0 до 19)."
   ]
  },
  {
   "cell_type": "code",
   "execution_count": 2,
   "id": "e7c1cfbf",
   "metadata": {},
   "outputs": [],
   "source": [
    "energy = energy[energy['building_id'] < 20]"
   ]
  },
  {
   "cell_type": "markdown",
   "id": "02b7b413",
   "metadata": {},
   "source": [
    "### Заполните отсутствующие значения по погоде интерполяционными данными."
   ]
  },
  {
   "cell_type": "code",
   "execution_count": 3,
   "id": "fec6c49f",
   "metadata": {},
   "outputs": [
    {
     "name": "stdout",
     "output_type": "stream",
     "text": [
      "Потребление памяти меньше на 8.9 Мб (-63.2%)\n",
      "timestamp Inf+NaN: 0\n",
      "site_id Inf+NaN: 0\n",
      "building_id Inf+NaN: 0\n",
      "meter Inf+NaN: 0\n",
      "meter_reading Inf+NaN: 0\n",
      "primary_use Inf+NaN: 0\n",
      "square_feet Inf+NaN: 0\n",
      "year_built Inf+NaN: 0\n",
      "floor_count Inf+NaN: 108573\n",
      "air_temperature Inf+NaN: 0\n",
      "cloud_coverage Inf+NaN: 45368\n",
      "dew_temperature Inf+NaN: 0\n",
      "precip_depth_1_hr Inf+NaN: 0\n",
      "sea_level_pressure Inf+NaN: 569\n",
      "wind_direction Inf+NaN: 3515\n",
      "wind_speed Inf+NaN: 0\n"
     ]
    }
   ],
   "source": [
    "def reduce_mem_usage(df: pd.DataFrame):\n",
    "    start_mem = df.memory_usage().sum() / 1024**2\n",
    "    for col in df.columns:\n",
    "        col_type = df[col].dtypes\n",
    "        if str(col_type)[:5] == 'float':\n",
    "            c_min = df[col].min()\n",
    "            c_max = df[col].max()\n",
    "            if c_min > np.finfo('f2').min and c_max < np.finfo('f2').max:\n",
    "                df[col] = df[col].astype(np.float16)\n",
    "            elif c_min > np.finfo('f4').min and c_max < np.finfo('f4').max:\n",
    "                df[col] = df[col].astype(np.float32)\n",
    "            else:\n",
    "                df[col] = df[col].astype(np.float64)\n",
    "        elif str(col_type)[:3] == 'int':\n",
    "            c_min = df[col].min()\n",
    "            c_max = df[col].max()\n",
    "            if c_min > np.iinfo(\"i1\").min and c_max < np.iinfo(\"i1\").max:\n",
    "                df[col] = df[col].astype(np.int8)\n",
    "            elif c_min > np.iinfo(\"i2\").min and c_max < np.iinfo(\"i2\").max:\n",
    "                df[col] = df[col].astype(np.int16)\n",
    "            elif c_min > np.iinfo(\"i4\").min and c_max < np.iinfo(\"i4\").max:\n",
    "                df[col] = df[col].astype(np.int32)\n",
    "            elif c_min > np.iinfo(\"i8\").min and c_max < np.iinfo(\"i8\").max:\n",
    "                df[col] = df[col].astype(np.int64)\n",
    "        elif col == 'timestamp':\n",
    "            df[col] = pd.to_datetime(df[col])\n",
    "        elif str(col_type)[:8] != 'datetime':\n",
    "            df[col] = df[col].astype('category')\n",
    "    \n",
    "    end_mem = df.memory_usage().sum() / 1024**2\n",
    "    print(\n",
    "        'Потребление памяти меньше на ',\n",
    "        round(start_mem - end_mem, 2),\n",
    "        ' Мб (-',\n",
    "        round(100 * (start_mem - end_mem) / start_mem, 1),\n",
    "        '%)',\n",
    "        sep=''\n",
    "    )\n",
    "    return df\n",
    "\n",
    "\n",
    "def show_inf_and_na(df: pd.DataFrame):\n",
    "    pd.set_option('use_inf_as_na', True)\n",
    "    for col in df.columns:\n",
    "        print(col, 'Inf+NaN:', df[col].isnull().sum())\n",
    "\n",
    "\n",
    "energy = pd.merge(left=energy, right=buildings, how='left', left_on='building_id', right_on='building_id')\n",
    "energy = pd.merge(\n",
    "    left=energy.set_index(['timestamp', 'site_id']), \n",
    "    right=weather.set_index(['timestamp', 'site_id']),\n",
    "    how='left', left_index=True, right_index=True\n",
    ")\n",
    "energy.reset_index(inplace=True)\n",
    "del weather\n",
    "del buildings\n",
    "energy = energy[energy['meter_reading'] > 0]\n",
    "energy = reduce_mem_usage(energy)\n",
    "show_inf_and_na(energy)"
   ]
  },
  {
   "cell_type": "code",
   "execution_count": 4,
   "id": "86c02998",
   "metadata": {},
   "outputs": [
    {
     "name": "stdout",
     "output_type": "stream",
     "text": [
      "air_temperature Inf+NaN: 0\n",
      "cloud_coverage Inf+NaN: 0\n",
      "dew_temperature Inf+NaN: 0\n",
      "precip_depth_1_hr Inf+NaN: 0\n",
      "sea_level_pressure Inf+NaN: 0\n",
      "wind_direction Inf+NaN: 0\n"
     ]
    }
   ],
   "source": [
    "energy[\"precip_depth_1_hr\"] = energy[\"precip_depth_1_hr\"].map(lambda x: x if x > 0 else 0)\n",
    "columns_for_interpolation = [\n",
    "    'air_temperature', 'cloud_coverage', 'dew_temperature', 'precip_depth_1_hr', 'sea_level_pressure', 'wind_direction'\n",
    "]\n",
    "for column in columns_for_interpolation:\n",
    "    energy[column] = energy[column].interpolate(limit_direction='both', kind='cubic')\n",
    "\n",
    "show_inf_and_na(energy[columns_for_interpolation])"
   ]
  },
  {
   "cell_type": "markdown",
   "id": "e417125f",
   "metadata": {},
   "source": [
    "### Сформировать признак is_holiday."
   ]
  },
  {
   "cell_type": "code",
   "execution_count": 5,
   "id": "18bd035d",
   "metadata": {},
   "outputs": [
    {
     "data": {
      "text/plain": [
       "140"
      ]
     },
     "execution_count": 5,
     "metadata": {},
     "output_type": "execute_result"
    }
   ],
   "source": [
    "from pandas.tseries.holiday import USFederalHolidayCalendar as calendar\n",
    "\n",
    "us_holidays = calendar().holidays(start=energy['timestamp'].dt.date.min(), end=energy['timestamp'].dt.date.max())\n",
    "energy['is_holiday'] = energy['timestamp'].isin(us_holidays).astype('int8')\n",
    "energy['is_holiday'].sum()"
   ]
  },
  {
   "cell_type": "markdown",
   "id": "bd114f51",
   "metadata": {},
   "source": [
    "### Разделите данные на обучающие/проверочные в пропорции 80/20."
   ]
  },
  {
   "cell_type": "code",
   "execution_count": 6,
   "id": "0533ff4b",
   "metadata": {},
   "outputs": [
    {
     "data": {
      "text/plain": [
       "((86858, 17), (21715, 17))"
      ]
     },
     "execution_count": 6,
     "metadata": {},
     "output_type": "execute_result"
    }
   ],
   "source": [
    "energy_train, energy_test = train_test_split(energy, test_size=.2)\n",
    "energy_train.shape, energy_test.shape"
   ]
  },
  {
   "cell_type": "markdown",
   "id": "b5a5234b",
   "metadata": {},
   "source": [
    "### Постройте и найдите общее качество модели линейной регрессии, построенной по часам для каждого из первых 20 зданий."
   ]
  },
  {
   "cell_type": "code",
   "execution_count": 7,
   "id": "9b70e567",
   "metadata": {},
   "outputs": [
    {
     "name": "stdout",
     "output_type": "stream",
     "text": [
      "Всего моделей: 480\n"
     ]
    }
   ],
   "source": [
    "features = [\n",
    "    'air_temperature', 'dew_temperature', 'cloud_coverage', 'wind_speed',\n",
    "    'precip_depth_1_hr', 'sea_level_pressure', 'is_holiday'\n",
    "]\n",
    "\n",
    "\n",
    "def generate_hourly_models(df: pd.DataFrame, x_features, y_feature='meter_reading'):\n",
    "    hourly_models = dict()\n",
    "    for hour in range(0, 24):\n",
    "        hour_data = df[df['timestamp'].dt.hour == hour]\n",
    "        hourly_models[hour] = LinearRegression().fit(hour_data[x_features].values, hour_data[y_feature].values)\n",
    "    return hourly_models\n",
    "\n",
    "\n",
    "building_models = dict()\n",
    "for building_id in range(0, 20):    \n",
    "    building_models[building_id] = generate_hourly_models(energy_train[energy_train['building_id'] == building_id], features)\n",
    "\n",
    "amount = 0\n",
    "for i in range(len(building_models)):\n",
    "    amount += len(building_models[i])\n",
    "print('Всего моделей:', amount)"
   ]
  },
  {
   "cell_type": "markdown",
   "id": "11c3c65c",
   "metadata": {},
   "source": [
    "### Получить итоговую оценку качества."
   ]
  },
  {
   "cell_type": "code",
   "execution_count": 8,
   "id": "ca45aae0",
   "metadata": {},
   "outputs": [
    {
     "name": "stdout",
     "output_type": "stream",
     "text": [
      "Качество линейной регрессии: 0.27987732701602697\n"
     ]
    }
   ],
   "source": [
    "def calculate_squared_error(row):\n",
    "    x = np.array(row[features]).reshape(1, -1)\n",
    "    prediction = building_models[row.building_id][row.timestamp.hour].predict(x)[0]\n",
    "    if prediction < 0:\n",
    "        prediction = 0\n",
    "    row['prediction'] = prediction\n",
    "    row['squared_error'] = (np.log(row.meter_reading + 1) - np.log(prediction + 1))**2\n",
    "    return row\n",
    "\n",
    "\n",
    "energy_test = energy_test.apply(calculate_squared_error, axis='columns')\n",
    "rmsle = np.sqrt(energy_test['squared_error'].sum() / len(energy_test))\n",
    "print('Качество линейной регрессии:', rmsle)"
   ]
  },
  {
   "cell_type": "markdown",
   "id": "d52fd617",
   "metadata": {},
   "source": [
    "### Чему равна метрика качества полученной модели с точностью до десятых?"
   ]
  },
  {
   "cell_type": "code",
   "execution_count": 9,
   "id": "1433eb4e",
   "metadata": {},
   "outputs": [
    {
     "name": "stdout",
     "output_type": "stream",
     "text": [
      "Качество линейной регрессии: 0.3\n"
     ]
    }
   ],
   "source": [
    "print('Качество линейной регрессии:', round(rmsle, 1))"
   ]
  }
 ],
 "metadata": {
  "kernelspec": {
   "display_name": "Python 3 (ipykernel)",
   "language": "python",
   "name": "python3"
  },
  "language_info": {
   "codemirror_mode": {
    "name": "ipython",
    "version": 3
   },
   "file_extension": ".py",
   "mimetype": "text/x-python",
   "name": "python",
   "nbconvert_exporter": "python",
   "pygments_lexer": "ipython3",
   "version": "3.10.4"
  }
 },
 "nbformat": 4,
 "nbformat_minor": 5
}
