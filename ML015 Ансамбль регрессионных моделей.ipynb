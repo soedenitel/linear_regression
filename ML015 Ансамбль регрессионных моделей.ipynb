{
 "cells": [
  {
   "cell_type": "markdown",
   "id": "7ffaaa7b",
   "metadata": {},
   "source": [
    "### Постановка задачи\n",
    "Загрузим подготовленные данные по энергопотреблению первых 20 зданий (building_id от 0 до 19).\n",
    "\n",
    "Соберем два набора моделей: по дате (праздники, дни недели и т.д.) и по погоде.\n",
    "\n",
    "Проведем 10 разбиений данных на обучающие/проверочные и выявим оптимальные веса моделей для каждого часа для каждого здания.\n",
    "\n",
    "Вычислим оптимизированную метрику качества для ансамбля моделей.\n",
    "        \n",
    "* http://video.ittensive.com/machine-learning/ashrae/building_metadata.csv.gz\n",
    "* http://video.ittensive.com/machine-learning/ashrae/weather_train.csv.gz\n",
    "* http://video.ittensive.com/machine-learning/ashrae/train.0.csv.gz\n",
    "\n",
    "Соревнование: https://www.kaggle.com/c/ashrae-energy-prediction/\n",
    "\n",
    "© ITtensive, 2020"
   ]
  },
  {
   "cell_type": "code",
   "execution_count": 1,
   "id": "52e5e165",
   "metadata": {},
   "outputs": [],
   "source": [
    "# Отключим предупреждения\n",
    "import warnings\n",
    "warnings.simplefilter('ignore')\n",
    "\n",
    "import numpy as np\n",
    "import pandas as pd\n",
    "from sklearn.model_selection import train_test_split\n",
    "from sklearn.linear_model import LinearRegression\n",
    "\n",
    "\n",
    "def reduce_mem_usage(df: pd.DataFrame):\n",
    "    start_mem = df.memory_usage().sum() / 1024**2\n",
    "    for col in df.columns:\n",
    "        col_type = df[col].dtypes\n",
    "        if str(col_type)[:5] == 'float':\n",
    "            c_min = df[col].min()\n",
    "            c_max = df[col].max()\n",
    "            if c_min > np.finfo('f2').min and c_max < np.finfo('f2').max:\n",
    "                df[col] = df[col].astype(np.float16)\n",
    "            elif c_min > np.finfo('f4').min and c_max < np.finfo('f4').max:\n",
    "                df[col] = df[col].astype(np.float32)\n",
    "            else:\n",
    "                df[col] = df[col].astype(np.float64)\n",
    "        elif str(col_type)[:3] == 'int':\n",
    "            c_min = df[col].min()\n",
    "            c_max = df[col].max()\n",
    "            if c_min > np.iinfo(\"i1\").min and c_max < np.iinfo(\"i1\").max:\n",
    "                df[col] = df[col].astype(np.int8)\n",
    "            elif c_min > np.iinfo(\"i2\").min and c_max < np.iinfo(\"i2\").max:\n",
    "                df[col] = df[col].astype(np.int16)\n",
    "            elif c_min > np.iinfo(\"i4\").min and c_max < np.iinfo(\"i4\").max:\n",
    "                df[col] = df[col].astype(np.int32)\n",
    "            elif c_min > np.iinfo(\"i8\").min and c_max < np.iinfo(\"i8\").max:\n",
    "                df[col] = df[col].astype(np.int64)\n",
    "        elif col == 'timestamp':\n",
    "            df[col] = pd.to_datetime(df[col])\n",
    "        elif str(col_type)[:8] != 'datetime':\n",
    "            df[col] = df[col].astype('category')\n",
    "    \n",
    "    end_mem = df.memory_usage().sum() / 1024**2\n",
    "    print(\n",
    "        'Потребление памяти меньше на ',\n",
    "        round(start_mem - end_mem, 2),\n",
    "        ' Мб (-',\n",
    "        round(100 * (start_mem - end_mem) / start_mem, 1),\n",
    "        '%)',\n",
    "        sep=''\n",
    "    )\n",
    "    return df"
   ]
  },
  {
   "cell_type": "markdown",
   "id": "069199ce",
   "metadata": {},
   "source": [
    "### Загрузка данных 20 зданий из HDF5"
   ]
  },
  {
   "cell_type": "code",
   "execution_count": 2,
   "id": "a4b6650b",
   "metadata": {},
   "outputs": [
    {
     "name": "stdout",
     "output_type": "stream",
     "text": [
      "<class 'pandas.core.frame.DataFrame'>\n",
      "Int64Index: 175680 entries, 0 to 175679\n",
      "Data columns (total 97 columns):\n",
      " #   Column                 Non-Null Count   Dtype         \n",
      "---  ------                 --------------   -----         \n",
      " 0   timestamp              175680 non-null  datetime64[ns]\n",
      " 1   site_id                175680 non-null  int8          \n",
      " 2   building_id            175680 non-null  int8          \n",
      " 3   meter                  175680 non-null  int8          \n",
      " 4   meter_reading          175680 non-null  float16       \n",
      " 5   primary_use            175680 non-null  category      \n",
      " 6   square_feet            175680 non-null  int32         \n",
      " 7   year_built             175680 non-null  float16       \n",
      " 8   floor_count            0 non-null       float64       \n",
      " 9   air_temperature        175680 non-null  float16       \n",
      " 10  cloud_coverage         175680 non-null  float16       \n",
      " 11  dew_temperature        175680 non-null  float16       \n",
      " 12  precip_depth_1_hr      175680 non-null  float16       \n",
      " 13  sea_level_pressure     175680 non-null  float16       \n",
      " 14  wind_direction         175680 non-null  float16       \n",
      " 15  wind_speed             175680 non-null  float16       \n",
      " 16  air_temperature_diff1  175680 non-null  float16       \n",
      " 17  air_temperature_diff2  175680 non-null  float16       \n",
      " 18  hour                   175680 non-null  int8          \n",
      " 19  weekday                175680 non-null  int8          \n",
      " 20  week                   175680 non-null  int8          \n",
      " 21  month                  175680 non-null  int8          \n",
      " 22  date                   175680 non-null  category      \n",
      " 23  is_holiday             175680 non-null  int8          \n",
      " 24  is_wday0               175680 non-null  int8          \n",
      " 25  is_wday1               175680 non-null  int8          \n",
      " 26  is_wday2               175680 non-null  int8          \n",
      " 27  is_wday3               175680 non-null  int8          \n",
      " 28  is_wday4               175680 non-null  int8          \n",
      " 29  is_wday5               175680 non-null  int8          \n",
      " 30  is_wday6               175680 non-null  int8          \n",
      " 31  is_w1                  175680 non-null  int8          \n",
      " 32  is_w2                  175680 non-null  int8          \n",
      " 33  is_w3                  175680 non-null  int8          \n",
      " 34  is_w4                  175680 non-null  int8          \n",
      " 35  is_w5                  175680 non-null  int8          \n",
      " 36  is_w6                  175680 non-null  int8          \n",
      " 37  is_w7                  175680 non-null  int8          \n",
      " 38  is_w8                  175680 non-null  int8          \n",
      " 39  is_w9                  175680 non-null  int8          \n",
      " 40  is_w10                 175680 non-null  int8          \n",
      " 41  is_w11                 175680 non-null  int8          \n",
      " 42  is_w12                 175680 non-null  int8          \n",
      " 43  is_w13                 175680 non-null  int8          \n",
      " 44  is_w14                 175680 non-null  int8          \n",
      " 45  is_w15                 175680 non-null  int8          \n",
      " 46  is_w16                 175680 non-null  int8          \n",
      " 47  is_w17                 175680 non-null  int8          \n",
      " 48  is_w18                 175680 non-null  int8          \n",
      " 49  is_w19                 175680 non-null  int8          \n",
      " 50  is_w20                 175680 non-null  int8          \n",
      " 51  is_w21                 175680 non-null  int8          \n",
      " 52  is_w22                 175680 non-null  int8          \n",
      " 53  is_w23                 175680 non-null  int8          \n",
      " 54  is_w24                 175680 non-null  int8          \n",
      " 55  is_w25                 175680 non-null  int8          \n",
      " 56  is_w26                 175680 non-null  int8          \n",
      " 57  is_w27                 175680 non-null  int8          \n",
      " 58  is_w28                 175680 non-null  int8          \n",
      " 59  is_w29                 175680 non-null  int8          \n",
      " 60  is_w30                 175680 non-null  int8          \n",
      " 61  is_w31                 175680 non-null  int8          \n",
      " 62  is_w32                 175680 non-null  int8          \n",
      " 63  is_w33                 175680 non-null  int8          \n",
      " 64  is_w34                 175680 non-null  int8          \n",
      " 65  is_w35                 175680 non-null  int8          \n",
      " 66  is_w36                 175680 non-null  int8          \n",
      " 67  is_w37                 175680 non-null  int8          \n",
      " 68  is_w38                 175680 non-null  int8          \n",
      " 69  is_w39                 175680 non-null  int8          \n",
      " 70  is_w40                 175680 non-null  int8          \n",
      " 71  is_w41                 175680 non-null  int8          \n",
      " 72  is_w42                 175680 non-null  int8          \n",
      " 73  is_w43                 175680 non-null  int8          \n",
      " 74  is_w44                 175680 non-null  int8          \n",
      " 75  is_w45                 175680 non-null  int8          \n",
      " 76  is_w46                 175680 non-null  int8          \n",
      " 77  is_w47                 175680 non-null  int8          \n",
      " 78  is_w48                 175680 non-null  int8          \n",
      " 79  is_w49                 175680 non-null  int8          \n",
      " 80  is_w50                 175680 non-null  int8          \n",
      " 81  is_w51                 175680 non-null  int8          \n",
      " 82  is_w52                 175680 non-null  int8          \n",
      " 83  is_w53                 175680 non-null  int8          \n",
      " 84  is_m1                  175680 non-null  int8          \n",
      " 85  is_m2                  175680 non-null  int8          \n",
      " 86  is_m3                  175680 non-null  int8          \n",
      " 87  is_m4                  175680 non-null  int8          \n",
      " 88  is_m5                  175680 non-null  int8          \n",
      " 89  is_m6                  175680 non-null  int8          \n",
      " 90  is_m7                  175680 non-null  int8          \n",
      " 91  is_m8                  175680 non-null  int8          \n",
      " 92  is_m9                  175680 non-null  int8          \n",
      " 93  is_m10                 175680 non-null  int8          \n",
      " 94  is_m11                 175680 non-null  int8          \n",
      " 95  is_m12                 175680 non-null  int8          \n",
      " 96  meter_reading_log      175680 non-null  float16       \n",
      "dtypes: category(2), datetime64[ns](1), float16(12), float64(1), int32(1), int8(80)\n",
      "memory usage: 22.6 MB\n"
     ]
    }
   ],
   "source": [
    "energy = pd.read_hdf('energy.0-20.ready.h5', 'energy')\n",
    "energy.info()"
   ]
  },
  {
   "cell_type": "markdown",
   "id": "08f87092",
   "metadata": {},
   "source": [
    "### Обозначим набор параметров для каждой модели"
   ]
  },
  {
   "cell_type": "code",
   "execution_count": 3,
   "id": "2dfff38a",
   "metadata": {},
   "outputs": [],
   "source": [
    "lr_weather_columns = [\n",
    "    'meter_reading_log', 'hour', 'building_id', 'air_temperature', 'dew_temperature', 'sea_level_pressure',\n",
    "    'wind_speed', 'air_temperature_diff1', 'air_temperature_diff2', 'cloud_coverage'\n",
    "]\n",
    "lr_days_columns = ['meter_reading_log', 'hour', 'building_id', 'is_holiday']\n",
    "\n",
    "for wday in range(0, 7):\n",
    "    lr_days_columns.append('is_wday' + str(wday))\n",
    "for week in range(1,54):\n",
    "    lr_days_columns.append('is_w' + str(week))\n",
    "for month in range(1,13):\n",
    "    lr_days_columns.append('is_m' + str(month))\n",
    "hours = range(0, 24)\n",
    "buildings = range(0, energy['building_id'].max() + 1)"
   ]
  },
  {
   "cell_type": "markdown",
   "id": "e1b4d7a9",
   "metadata": {},
   "source": [
    "### Введем функцию для вычисления качества моделей"
   ]
  },
  {
   "cell_type": "code",
   "execution_count": 4,
   "id": "cd9048f2",
   "metadata": {},
   "outputs": [],
   "source": [
    "def calculate_model (x, df_lr, lr_columns):\n",
    "    lr = -1\n",
    "    model = df_lr[x.building_id][x.hour]\n",
    "    if len(model) > 0:\n",
    "        lr = np.sum([x[col] * model[i] for i,col in enumerate(lr_columns[3:])])\n",
    "        lr += model[len(lr_columns) - 3]\n",
    "        lr = np.exp(lr)\n",
    "    if lr < 0 or lr*lr == lr:\n",
    "        lr = 0\n",
    "    x['meter_reading_lr_q'] = (np.log(x.meter_reading + 1) - np.log(1 + lr))**2\n",
    "    return x"
   ]
  },
  {
   "cell_type": "markdown",
   "id": "7158036c",
   "metadata": {},
   "source": [
    "### Введем функции для разделения данных, построение моделей и вычисления их качества (для обновления весов ансамбля)\n",
    "Ансамбль моделей линейной регрессии: Z = A * погода + B * дни_недели, A + B = 1"
   ]
  },
  {
   "cell_type": "code",
   "execution_count": 9,
   "id": "92f50167",
   "metadata": {},
   "outputs": [],
   "source": [
    "def train_model(df, columns):\n",
    "    df_train_lr = df[columns]\n",
    "    df_lr = [[]]*len(buildings)\n",
    "    for building in buildings:\n",
    "        df_lr[building] = [[]]*len(hours)\n",
    "        df_train_b = df_train_lr[df_train_lr['building_id'] == building]\n",
    "        for hour in hours:\n",
    "            df_train_bh = df_train_b[df_train_b['hour'] == hour]\n",
    "            y = df_train_bh['meter_reading_log']\n",
    "            x = df_train_bh.drop(['meter_reading_log', 'hour', 'building_id'], axis='columns')\n",
    "            model = LinearRegression(fit_intercept=False).fit(x, y)\n",
    "            df_lr[building][hour] = model.coef_\n",
    "            df_lr[building][hour] = np.append(df_lr[building][hour], model.intercept_)\n",
    "    return df_lr\n",
    "\n",
    "\n",
    "def calculate_weights_model(df_test, df_train, lr_columns):\n",
    "    df_test = df_test.apply(\n",
    "        calculate_model,\n",
    "        axis='columns',\n",
    "        df_lr=train_model(df_train, lr_columns),\n",
    "        lr_columns=lr_columns\n",
    "    )\n",
    "    return df_test.groupby(['hour', 'building_id'])['meter_reading_lr_q'].sum()\n",
    "\n",
    "\n",
    "def calculate_weights():\n",
    "    df_train, df_test = train_test_split(energy[energy['meter_reading'] > 0], test_size=.2)\n",
    "    return (\n",
    "        calculate_weights_model(df_test, df_train, lr_weather_columns),\n",
    "        calculate_weights_model(df_test, df_train, lr_days_columns),\n",
    "    )"
   ]
  },
  {
   "cell_type": "markdown",
   "id": "a20c5c35",
   "metadata": {},
   "source": [
    "### Рассчитаем оптимальные веса для каждого часа и здания\n",
    "10 раз разобьем исходный набор данных на обучающую/тестовую выборку, рассчитаем в каждом случае значения ошибки для каждого здания и часа\n",
    "\n",
    "Сформируем список весов: 1 - учитываем регрессию по дням недели, 0 - учитываем регрессию по погоде"
   ]
  },
  {
   "cell_type": "code",
   "execution_count": 10,
   "id": "f0eeeece",
   "metadata": {},
   "outputs": [
    {
     "name": "stdout",
     "output_type": "stream",
     "text": [
      "Расчёт весов ансамбля, итерация 0\n",
      "Расчёт весов ансамбля, итерация 1\n",
      "Расчёт весов ансамбля, итерация 2\n",
      "Расчёт весов ансамбля, итерация 3\n",
      "Расчёт весов ансамбля, итерация 4\n",
      "Расчёт весов ансамбля, итерация 5\n",
      "Расчёт весов ансамбля, итерация 6\n",
      "Расчёт весов ансамбля, итерация 7\n",
      "Расчёт весов ансамбля, итерация 8\n",
      "Расчёт весов ансамбля, итерация 9\n"
     ]
    },
    {
     "data": {
      "text/plain": [
       "[[1, 0, 0, 0, 0, 0, 0, 0, 0, 0, 0, 0, 0, 0, 0, 0, 0, 0, 0, 0, 0, 0, 0, 0],\n",
       " [0, 0, 0, 0, 0, 0, 0, 0, 0, 0, 0, 0, 0, 0, 0, 0, 0, 0, 0, 0, 0, 0, 0, 0],\n",
       " [1, 1, 1, 1, 1, 1, 0, 1, 0, 1, 0, 0, 0, 0, 0, 0, 0, 0, 0, 0, 0, 1, 1, 1],\n",
       " [0, 0, 0, 0, 0, 0, 0, 0, 0, 0, 0, 0, 0, 0, 0, 0, 0, 0, 0, 0, 0, 0, 0, 0],\n",
       " [0, 0, 0, 0, 0, 0, 0, 0, 0, 0, 0, 0, 1, 0, 0, 0, 0, 0, 0, 1, 0, 0, 0, 0],\n",
       " [0, 0, 0, 1, 0, 0, 0, 0, 0, 0, 0, 0, 0, 0, 0, 0, 0, 0, 0, 0, 0, 1, 0, 0],\n",
       " [0, 0, 0, 0, 0, 0, 0, 0, 0, 0, 0, 0, 0, 0, 0, 0, 0, 0, 0, 1, 0, 0, 0, 0],\n",
       " [0, 0, 0, 0, 0, 0, 0, 0, 0, 1, 0, 0, 1, 0, 0, 0, 0, 0, 0, 0, 1, 0, 0, 0],\n",
       " [0, 0, 0, 0, 0, 0, 0, 0, 0, 0, 0, 0, 0, 0, 0, 0, 0, 0, 0, 0, 0, 0, 0, 0],\n",
       " [1, 1, 0, 0, 0, 0, 0, 0, 0, 0, 1, 1, 0, 0, 0, 1, 1, 0, 0, 0, 0, 0, 0, 1],\n",
       " [0, 0, 0, 0, 0, 0, 0, 1, 0, 0, 0, 0, 0, 0, 0, 0, 0, 0, 0, 0, 0, 0, 0, 0],\n",
       " [0, 0, 0, 0, 0, 0, 0, 0, 0, 0, 0, 0, 0, 0, 0, 0, 0, 0, 0, 0, 0, 0, 0, 0],\n",
       " [0, 0, 0, 0, 0, 0, 0, 0, 0, 0, 0, 0, 0, 0, 0, 0, 0, 0, 0, 0, 0, 0, 0, 0],\n",
       " [0, 0, 0, 0, 0, 0, 0, 0, 0, 1, 0, 0, 0, 0, 0, 0, 0, 0, 0, 0, 0, 0, 0, 0],\n",
       " [0, 0, 0, 0, 0, 0, 0, 0, 0, 0, 0, 0, 0, 0, 0, 0, 0, 0, 0, 1, 0, 0, 0, 0],\n",
       " [0, 0, 0, 0, 0, 0, 0, 0, 0, 0, 0, 0, 0, 0, 0, 0, 0, 0, 0, 0, 0, 0, 0, 0],\n",
       " [0, 0, 0, 0, 0, 0, 0, 0, 0, 0, 0, 0, 0, 0, 0, 0, 0, 0, 0, 0, 0, 0, 0, 0],\n",
       " [0, 0, 0, 0, 0, 0, 0, 0, 0, 0, 0, 0, 0, 0, 0, 0, 0, 0, 0, 0, 0, 0, 0, 0],\n",
       " [0, 0, 0, 0, 0, 0, 0, 0, 0, 0, 0, 0, 0, 0, 0, 0, 1, 0, 0, 0, 0, 1, 0, 0],\n",
       " [0, 0, 0, 0, 0, 0, 0, 0, 0, 0, 0, 0, 0, 1, 0, 0, 0, 0, 0, 0, 0, 0, 1, 0]]"
      ]
     },
     "execution_count": 10,
     "metadata": {},
     "output_type": "execute_result"
    }
   ],
   "source": [
    "weights_weather = []\n",
    "weights_days = []\n",
    "\n",
    "for i in range(0, 10):\n",
    "    print('Расчёт весов ансамбля, итерация', i)\n",
    "    weights_weather_model, weights_days_model = calculate_weights()\n",
    "    \n",
    "    if len(weights_weather) > 0:\n",
    "        weights_weather = weights_weather + weights_weather_model\n",
    "    else:\n",
    "        weights_weather = weights_weather_model\n",
    "        \n",
    "    if len(weights_days) > 0:\n",
    "        weights_days = weights_days + weights_days_model\n",
    "    else:\n",
    "        weights_days = weights_days_model\n",
    "        \n",
    "weights = [0]*len(buildings)\n",
    "for b in buildings:\n",
    "    weights[b] = [0]*len(hours)\n",
    "    for h in hours:\n",
    "        if weights_weather.loc[h].at[b] > weights_days.loc[h].at[b]:\n",
    "            weights[b][h] = 1\n",
    "\n",
    "weights"
   ]
  },
  {
   "cell_type": "markdown",
   "id": "91c3e43d",
   "metadata": {},
   "source": [
    "### Посчитаем ансамбль линейной регрессии\n",
    "Разделим данные на обучающие/тестовые"
   ]
  },
  {
   "cell_type": "code",
   "execution_count": 11,
   "id": "dec95e9d",
   "metadata": {},
   "outputs": [],
   "source": [
    "energy_train, energy_test = train_test_split(energy[energy['meter_reading'] > 0], test_size=0.2)"
   ]
  },
  {
   "cell_type": "markdown",
   "id": "2dee9038",
   "metadata": {},
   "source": [
    "### Обучим модели линейной регрессии по дате/погоде"
   ]
  },
  {
   "cell_type": "code",
   "execution_count": 12,
   "id": "a48957ee",
   "metadata": {},
   "outputs": [],
   "source": [
    "energy_lr_days = train_model(energy_train, lr_days_columns)\n",
    "energy_lr_weather = train_model(energy_train, lr_weather_columns)"
   ]
  },
  {
   "cell_type": "markdown",
   "id": "8d6d55b8",
   "metadata": {},
   "source": [
    "### Рассчитаем финальное качество ансамбля\n",
    "Если вес 1, то считаем регрессию по дням недели, если 0 - то по погоде"
   ]
  },
  {
   "cell_type": "code",
   "execution_count": 13,
   "id": "039d2bd1",
   "metadata": {},
   "outputs": [],
   "source": [
    "def calculate_model_ensemble(x, model, columns):\n",
    "    lr = -1\n",
    "    if len(model) > 0:\n",
    "        lr = np.sum([x[col] * model[i] for i, col in enumerate(columns[3:])]) + model[len(columns) - 3]\n",
    "        lr = np.exp(lr)\n",
    "    if lr < 0 or lr*lr == lr:\n",
    "        lr = 0\n",
    "    return lr\n",
    "\n",
    "\n",
    "def calculate_models_ensemble(x):\n",
    "    lr_d = calculate_model_ensemble(x, energy_lr_days[x.building_id][x.hour], lr_days_columns)\n",
    "    lr_w = calculate_model_ensemble(x, energy_lr_weather[x.building_id][x.hour], lr_weather_columns)\n",
    "    if weights[x.building_id][x.hour] == 1:\n",
    "        lr = lr_d\n",
    "    else:\n",
    "        lr = lr_w\n",
    "        \n",
    "    lr_sum = (lr_w + lr_d) / 2\n",
    "    x['meter_reading_lr_q'] = (np.log(x.meter_reading + 1) - np.log(1 + lr))**2\n",
    "    x['meter_reading_sum_q'] = (np.log(x.meter_reading + 1) - np.log(1 + lr_sum))**2\n",
    "    return x"
   ]
  },
  {
   "cell_type": "markdown",
   "id": "46c01d91",
   "metadata": {},
   "source": [
    "В теории, в идеальном случае, ансамбль линейной регрессии не должен давать никакого преимущества, потому что если\n",
    "\\begin{equation}\n",
    "z_1 = Ax + By + C, z_2 = Ds + Et + F, то\n",
    "\\end{equation}\n",
    "\\begin{equation}\n",
    "z = \\alpha z_1 + \\beta z_2 = \\alpha Ax + \\alpha By + \\alpha C + \\beta Ds + \\beta Et + \\beta F = A_1x + B_1y + D_1s + E_1t + F_1\n",
    "\\end{equation}\n",
    "И по сути ансамбль линейной регрессии - это просто линейная регрессия по всем переменным. Но при использовании небольших наборов (чтобы исключить переобучение) связанных переменных для разных моделей регрессии можно получить небольшой выигрыш.\n",
    "\n",
    "Ансамбль регрессии в нашем случае не дает никакого улучшения относительно регрессии по совокупному набору параметров.\n",
    "\n",
    "Однако, использование усредненной суммы показателей каждой конкретной модели дало выигрыш порядка 6% относительно модели по всем показателям. В этом случае сумму моделей линейной регрессии \"компенсирует\" ошибки каждой конкретной модели и работает точнее."
   ]
  },
  {
   "cell_type": "code",
   "execution_count": 14,
   "id": "2d8d3156",
   "metadata": {},
   "outputs": [
    {
     "name": "stdout",
     "output_type": "stream",
     "text": [
      "Качество ансамбля, 20 зданий: 0.27313147377247027 0.3\n",
      "Качество ансамбля суммы, 20 зданий: 0.19873040940250258 0.2\n"
     ]
    }
   ],
   "source": [
    "energy_test = energy_test.apply(calculate_models_ensemble, axis='columns')\n",
    "lr_rmsle = np.sqrt(energy_test['meter_reading_lr_q'].sum() / len(energy_test))\n",
    "sum_rmsle = np.sqrt(energy_test['meter_reading_sum_q'].sum() / len(energy_test))\n",
    "print (\"Качество ансамбля, 20 зданий:\", lr_rmsle, round(lr_rmsle, 1))\n",
    "print (\"Качество ансамбля суммы, 20 зданий:\", sum_rmsle, round(sum_rmsle, 1))"
   ]
  }
 ],
 "metadata": {
  "kernelspec": {
   "display_name": "Python 3 (ipykernel)",
   "language": "python",
   "name": "python3"
  },
  "language_info": {
   "codemirror_mode": {
    "name": "ipython",
    "version": 3
   },
   "file_extension": ".py",
   "mimetype": "text/x-python",
   "name": "python",
   "nbconvert_exporter": "python",
   "pygments_lexer": "ipython3",
   "version": "3.10.4"
  }
 },
 "nbformat": 4,
 "nbformat_minor": 5
}
